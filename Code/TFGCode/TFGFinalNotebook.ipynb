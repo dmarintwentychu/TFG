{
 "cells": [
  {
   "cell_type": "markdown",
   "metadata": {},
   "source": [
    "# Índice"
   ]
  },
  {
   "cell_type": "markdown",
   "metadata": {},
   "source": [
    "1. [Preparacion del Dataset](#preparaciondataset)\n",
    "\n",
    "    1.1 [Carga del Dataset](#cargadeldataset) <br>\n",
    "    1.2 [Visualización de los datos](#visualizaciondatos) <br>\n",
    "    1.3 [Modificación de imagenes a baja y media resolución](#modimgs) <br>\n",
    "    1.4 [Creación de los datasets](#creaciondatasets)\n",
    "    \n",
    "    - [a). Baja resolución (kxk)](#br) <br>\n",
    "    - [b). Media resolución (mxm)](#mr)<br>\n",
    "    - [c). Alta resolución (nxn)](#hr)\n",
    "2. [Creación y Entrenamiento de modelos](#creacionentrenamientomodelos)\n",
    "\n",
    "    2.1 [Auto Encoder (Vanilla)](#ae) <br>\n",
    "    2.2 [Variational Auto Encoder (VAE)](#vae) <br>\n",
    "    2.3 [GAN (Sin U-Net)](#gan) <br>\n",
    "    2.4 [GAN (U-Net o cGAN o pix2pix)](#cgan) <br>\n",
    "    2.5 [SRGAN(?)](#srgan) <br>\n",
    "    2.6 [ESRGAN(?)](#esrgan) <br>\n",
    "3. [Comparación de modelos](#comparacionmodelos)\n",
    "\n",
    "    3.1 [Métricas individuales](#mi) <br>\n",
    "    3.2 [Tablas comparativas de métricas](#tcm) <br>\n",
    "    3.3 [Comparativa de imágenes](#ci)"
   ]
  },
  {
   "cell_type": "markdown",
   "metadata": {},
   "source": [
    "# 1. Preparación del Dataset <a id=\"preparaciondataset\"></a>"
   ]
  },
  {
   "cell_type": "markdown",
   "metadata": {},
   "source": [
    "## 1.1 Carga del Dataset <a id=\"cargadeldataset\"></a>"
   ]
  },
  {
   "cell_type": "markdown",
   "metadata": {},
   "source": [
    "Se cargan las rutas del dataset de entrenamiento y del dataset de validación"
   ]
  },
  {
   "cell_type": "code",
   "execution_count": null,
   "metadata": {
    "vscode": {
     "languageId": "plaintext"
    }
   },
   "outputs": [],
   "source": []
  },
  {
   "cell_type": "markdown",
   "metadata": {},
   "source": [
    "## 1.2 Visualización de los datos <a id=\"visualizaciondatos\"></a>"
   ]
  },
  {
   "cell_type": "markdown",
   "metadata": {},
   "source": [
    "## 1.3 Modificación de imagenes a baja y media resolución <a id=\"modimgs\"></a>"
   ]
  },
  {
   "cell_type": "markdown",
   "metadata": {},
   "source": [
    "## 1.4 Creación de los datasets <a id=\"creaciondatasets\"></a>"
   ]
  },
  {
   "cell_type": "markdown",
   "metadata": {},
   "source": [
    "Crear función que te haga sola los datasets??"
   ]
  },
  {
   "cell_type": "markdown",
   "metadata": {},
   "source": [
    "### a). Baja resolución (kxk) <a id=\"br\"></a>"
   ]
  },
  {
   "cell_type": "markdown",
   "metadata": {},
   "source": [
    "### b). Media resolución (mxm) <a id=\"mr\"></a>"
   ]
  },
  {
   "cell_type": "markdown",
   "metadata": {},
   "source": [
    "### c). Alta resolución (nxn) <a id=\"hr\"></a>"
   ]
  },
  {
   "cell_type": "markdown",
   "metadata": {},
   "source": [
    "# 2. Creación y Entrenamiento de modelos <a id=\"creacionentrenamientomodelos\"></a>"
   ]
  },
  {
   "cell_type": "markdown",
   "metadata": {},
   "source": [
    "## 2.1 Auto Encoder (Vanilla) <a id=\"ae\"></a>"
   ]
  },
  {
   "cell_type": "markdown",
   "metadata": {},
   "source": [
    "## 2.2 Variational Auto Encoder (VAE) <a id=\"vae\"></a>"
   ]
  },
  {
   "cell_type": "markdown",
   "metadata": {},
   "source": [
    "## 2.3 GAN (Sin U-Net) <a id=\"gan\"></a>"
   ]
  },
  {
   "cell_type": "markdown",
   "metadata": {},
   "source": [
    "## 2.4 GAN (U-Net o cGAN o pix2pix) <a id=\"cgan\"></a>"
   ]
  },
  {
   "cell_type": "markdown",
   "metadata": {},
   "source": [
    "## 2.5 SRGAN(?) <a id=\"srgan\"></a>"
   ]
  },
  {
   "cell_type": "markdown",
   "metadata": {},
   "source": [
    "## 2.6 ESRGAN(?) <a id=\"esrgan\"></a>"
   ]
  },
  {
   "cell_type": "markdown",
   "metadata": {},
   "source": [
    "# 3. Comparación de modelos <a id=\"comparacionmodelos\"></a>"
   ]
  },
  {
   "cell_type": "markdown",
   "metadata": {},
   "source": [
    "# 3.1 Métricas individuales <a id=\"mi\"></a>"
   ]
  },
  {
   "cell_type": "markdown",
   "metadata": {},
   "source": [
    "# 3.2 Tablas comparativas de métricas <a id=\"tcm\"></a>"
   ]
  },
  {
   "cell_type": "markdown",
   "metadata": {},
   "source": [
    "# 3.3 Comparativa de imágenes <a id=\"ci\"></a>"
   ]
  }
 ],
 "metadata": {
  "kernelspec": {
   "display_name": "tf",
   "language": "python",
   "name": "python3"
  },
  "language_info": {
   "codemirror_mode": {
    "name": "ipython",
    "version": 3
   },
   "file_extension": ".py",
   "mimetype": "text/x-python",
   "name": "python",
   "nbconvert_exporter": "python",
   "pygments_lexer": "ipython3",
   "version": "3.9.18"
  }
 },
 "nbformat": 4,
 "nbformat_minor": 2
}
