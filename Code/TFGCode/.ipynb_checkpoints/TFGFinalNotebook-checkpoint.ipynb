{
 "cells": [
  {
   "cell_type": "markdown",
   "metadata": {},
   "source": [
    "# Índice\n",
    "\n",
    "1. [Preparacion del Dataset](#1-preparación-del-dataset)\n",
    "\n",
    "    * Cargar los datos\n",
    "    * Modificar imagenes a baja, media\n",
    "    * Crear 3 datasets:\n",
    "    \n",
    "        * Baja resolucion (kxk)\n",
    "        * Media resolucion (mxm)\n",
    "        * Alta resolucion (nxn)\n",
    "2. Entrenamiento de modelos\n",
    "\n",
    "    * Auto-Encoder (Vanilla)\n",
    "    * VAE\n",
    "    * GAN (Sin U-Net)\n",
    "    * GAN (U-Net o cGAN o pix2pix)\n",
    "    * SRGAN(?)\n",
    "    * ESRGAN(?)\n",
    "3. Comparación de modelos\n",
    "\n",
    "    * Tablas de métricas individuales\n",
    "    * Tablas comparativas de métricas\n",
    "    * Comparativa de imágenes"
   ]
  },
  {
   "cell_type": "markdown",
   "metadata": {},
   "source": [
    "# 1. Preparación del Dataset <a id=\"pD\"></a>"
   ]
  },
  {
   "cell_type": "code",
   "execution_count": null,
   "metadata": {},
   "outputs": [],
   "source": []
  }
 ],
 "metadata": {
  "kernelspec": {
   "display_name": "tf",
   "language": "python",
   "name": "python3"
  },
  "language_info": {
   "codemirror_mode": {
    "name": "ipython",
    "version": 3
   },
   "file_extension": ".py",
   "mimetype": "text/x-python",
   "name": "python",
   "nbconvert_exporter": "python",
   "pygments_lexer": "ipython3",
   "version": "3.9.18"
  }
 },
 "nbformat": 4,
 "nbformat_minor": 2
}
