{
 "cells": [
  {
   "cell_type": "markdown",
   "metadata": {},
   "source": [
    "# Introducción"
   ]
  },
  {
   "cell_type": "markdown",
   "metadata": {},
   "source": [
    "En este notebook se implementará el modelo EDSR para hacer upscaling"
   ]
  },
  {
   "cell_type": "code",
   "execution_count": 1,
   "metadata": {},
   "outputs": [],
   "source": [
    "import os\n",
    "import numpy as np\n",
    "from PIL import Image\n",
    "from PIL import ImageFilter\n",
    "\n",
    "import cv2\n",
    "import matplotlib.pyplot as plt\n",
    "\n",
    "import tensorflow as tf\n",
    "\n",
    "import random\n",
    "import pathlib\n",
    "from IPython import display\n",
    "\n",
    "import pandas as pd\n",
    "\n",
    "import time\n",
    "import glob"
   ]
  },
  {
   "cell_type": "markdown",
   "metadata": {},
   "source": [
    "# Preparacion del Dataset"
   ]
  },
  {
   "cell_type": "code",
   "execution_count": 2,
   "metadata": {},
   "outputs": [
    {
     "data": {
      "text/plain": [
       "[PhysicalDevice(name='/physical_device:CPU:0', device_type='CPU'),\n",
       " PhysicalDevice(name='/physical_device:GPU:0', device_type='GPU')]"
      ]
     },
     "execution_count": 2,
     "metadata": {},
     "output_type": "execute_result"
    }
   ],
   "source": [
    "tf.config.list_physical_devices()"
   ]
  },
  {
   "cell_type": "code",
   "execution_count": 3,
   "metadata": {},
   "outputs": [
    {
     "name": "stdout",
     "output_type": "stream",
     "text": [
      "Num GPUs Available:  1\n"
     ]
    }
   ],
   "source": [
    "print(\"Num GPUs Available: \", len(tf.config.experimental.list_physical_devices('GPU')))"
   ]
  },
  {
   "cell_type": "code",
   "execution_count": 4,
   "metadata": {},
   "outputs": [],
   "source": [
    "input_path = \"./Cat/\""
   ]
  },
  {
   "cell_type": "code",
   "execution_count": 21,
   "metadata": {},
   "outputs": [
    {
     "name": "stdout",
     "output_type": "stream",
     "text": [
      "Error: No se puede leer la imagen 10125.jpg\n",
      "Error: No se puede leer la imagen 10501.jpg\n",
      "Error: No se puede leer la imagen 10820.jpg\n",
      "Error: No se puede leer la imagen 11210.jpg\n",
      "Error: No se puede leer la imagen 11565.jpg\n",
      "Error: No se puede leer la imagen 11874.jpg\n",
      "Error: No se puede leer la imagen 11935.jpg\n",
      "Error: No se puede leer la imagen 140.jpg\n",
      "Error: No se puede leer la imagen 2663.jpg\n",
      "Error: No se puede leer la imagen 3300.jpg\n",
      "Error: No se puede leer la imagen 3491.jpg\n",
      "Error: No se puede leer la imagen 4833.jpg\n",
      "Error: No se puede leer la imagen 5553.jpg\n",
      "Error: No se puede leer la imagen 660.jpg\n",
      "Error: No se puede leer la imagen 7968.jpg\n",
      "Error: No se puede leer la imagen 7978.jpg\n",
      "Error: No se puede leer la imagen 8470.jpg\n",
      "Error: No se puede leer la imagen 850.jpg\n",
      "Error: No se puede leer la imagen 9171.jpg\n",
      "Error: No se puede leer la imagen 936.jpg\n",
      "Error: No se puede leer la imagen 9565.jpg\n",
      "Error: No se puede leer la imagen 9778.jpg\n"
     ]
    }
   ],
   "source": [
    "import cv2\n",
    "import os\n",
    "\n",
    "# Función para dividir la imagen en parches de tamaño especificado\n",
    "def extract_patches(image, patch_size):\n",
    "    patches = []\n",
    "    height, width = image.shape[:2]\n",
    "    for y in range(0, height - patch_size + 1, patch_size):\n",
    "        for x in range(0, width - patch_size + 1, patch_size):\n",
    "            patch = image[y:y+patch_size, x:x+patch_size]\n",
    "            patches.append(patch)\n",
    "    return patches\n",
    "\n",
    "# Ruta de la carpeta que contiene las imágenes de alta resolución\n",
    "input_folder = \"./Cat\"\n",
    "# Ruta de la carpeta donde se guardarán los parches de entrada\n",
    "input_patch_folder = \"./Cat_LR\"\n",
    "# Ruta de la carpeta donde se guardarán los parches de salida\n",
    "output_patch_folder = \"./Cat_HR\"\n",
    "# Tamaño de los parches de entrada y salida\n",
    "input_patch_size = 48\n",
    "output_patch_size = 96\n",
    "\n",
    "# Iterar sobre todas las imágenes en la carpeta de entrada\n",
    "for filename in os.listdir(input_folder):\n",
    "    if filename.endswith(\".jpg\") or filename.endswith(\".png\"):\n",
    "        # Leer la imagen\n",
    "        image = cv2.imread(os.path.join(input_folder, filename))\n",
    "                # Verificar que la imagen no esté vacía\n",
    "        if image is None:\n",
    "            print(f\"Error: No se puede leer la imagen {filename}\")\n",
    "            continue\n",
    "        \n",
    "        # Reducir la imagen a la mitad de su tamaño original\n",
    "        small_image = cv2.resize(image, (0, 0), fx=0.5, fy=0.5)\n",
    "        \n",
    "        # Dividir la imagen reducida en parches de entrada\n",
    "        input_patches = extract_patches(small_image, input_patch_size)\n",
    "        \n",
    "        # Dividir la imagen original en parches de salida\n",
    "        output_patches = extract_patches(image, output_patch_size)\n",
    "        \n",
    "        # Guardar los parches de entrada y salida\n",
    "        for i, (input_patch, output_patch) in enumerate(zip(input_patches, output_patches)):\n",
    "            cv2.imwrite(os.path.join(input_patch_folder, f\"{filename}_{i}.png\"), input_patch)\n",
    "            cv2.imwrite(os.path.join(output_patch_folder, f\"{filename}_{i}.png\"), output_patch)\n"
   ]
  },
  {
   "cell_type": "code",
   "execution_count": 34,
   "metadata": {},
   "outputs": [],
   "source": [
    "train_input_dir =  './Cat_LR'\n",
    "train_target_dir =  './Cat_HR'"
   ]
  },
  {
   "cell_type": "code",
   "execution_count": 35,
   "metadata": {},
   "outputs": [],
   "source": [
    "def load_image(file_path):\n",
    "    img = tf.io.read_file(file_path)\n",
    "    img = tf.image.decode_jpeg(img)\n",
    "    img = tf.cast(img, tf.float32)\n",
    "    img = (tf.cast(img, tf.float32) / 255)\n",
    "    return img"
   ]
  },
  {
   "cell_type": "code",
   "execution_count": 36,
   "metadata": {},
   "outputs": [],
   "source": [
    "def preprocess_image(file_path_input, file_path_target):\n",
    "    input_img = load_image(file_path_input)\n",
    "    target_img = load_image(file_path_target)\n",
    "    return input_img, target_img"
   ]
  },
  {
   "cell_type": "code",
   "execution_count": 37,
   "metadata": {},
   "outputs": [],
   "source": [
    "BATCH_SIZE = 1000"
   ]
  },
  {
   "cell_type": "code",
   "execution_count": 38,
   "metadata": {},
   "outputs": [],
   "source": [
    "train_input_dataset = tf.data.Dataset.list_files(str(train_input_dir), shuffle=False)\n",
    "train_target_dataset = tf.data.Dataset.list_files(str(train_target_dir), shuffle=False)\n",
    "train_dataset = tf.data.Dataset.zip((train_input_dataset, train_target_dataset))\n",
    "train_dataset = train_dataset.map(preprocess_image, num_parallel_calls=tf.data.AUTOTUNE)\n",
    "train_dataset = train_dataset.batch(BATCH_SIZE)"
   ]
  },
  {
   "cell_type": "code",
   "execution_count": 39,
   "metadata": {},
   "outputs": [
    {
     "data": {
      "text/plain": [
       "<TensorSliceDataset element_spec=TensorSpec(shape=(), dtype=tf.string, name=None)>"
      ]
     },
     "execution_count": 39,
     "metadata": {},
     "output_type": "execute_result"
    }
   ],
   "source": [
    "train_input_dataset."
   ]
  },
  {
   "cell_type": "markdown",
   "metadata": {},
   "source": [
    "# Creacion del modelo"
   ]
  },
  {
   "cell_type": "markdown",
   "metadata": {},
   "source": [
    "El modelo EDSR se entrena por parches NxN en este caso en el paper se entreno 48x48."
   ]
  },
  {
   "cell_type": "markdown",
   "metadata": {},
   "source": [
    "<img src=\"EDSR_structure.png\">"
   ]
  },
  {
   "cell_type": "code",
   "execution_count": 27,
   "metadata": {},
   "outputs": [],
   "source": [
    "class EDSR(tf.keras.models.Model):\n",
    "    \n",
    "    def __init__(self,B,F):\n",
    "        super(EDSR, self).__init__()\n",
    "        self.B = B #Numero de resblocks\n",
    "        self.F = F #Numero de Filtros\n",
    "\n",
    "        #Primeras capas\n",
    "        xinput = tf.keras.layers.Input(shape=(48,48,3))\n",
    "        xlast = tf.keras.layers.Conv2D(filters=self.F,kernel_size=3,strides=1,padding='SAME')(xinput)\n",
    "\n",
    "        x = self.res_block(xlast)\n",
    "        \n",
    "        #B ResBlock´s\n",
    "        for i in range(self.B - 1):\n",
    "            x = self.res_block(x)\n",
    "\n",
    "        x = tf.keras.layers.Conv2D(filters=self.F,kernel_size=3,strides=1,padding='SAME')(x)\n",
    "\n",
    "        x = x + xlast\n",
    "\n",
    "        #Upsample\n",
    "        x = tf.keras.layers.Conv2D(filters=self.F,kernel_size=3,strides=1,padding='SAME')(x)\n",
    "        x = tf.nn.depth_to_space(x,block_size=2)\n",
    "\n",
    "        out = tf.keras.layers.Conv2D(filters=3,kernel_size=3,strides=1,padding='SAME')(x)\n",
    "\n",
    "        self.model = tf.keras.models.Model(xinput,out)\n",
    "\n",
    "    def res_block(self,x):\n",
    "        \n",
    "        x1 = tf.keras.layers.Conv2D(filters=self.F,kernel_size=3,strides=1,padding='SAME',activation=\"relu\")(x)\n",
    "        x2 = tf.keras.layers.Conv2D(filters=self.F,kernel_size=3,strides=1,padding='SAME')(x1)\n",
    "\n",
    "        output = x2 + x\n",
    "        return output\n",
    "    \n",
    "        \n",
    "    def call(self, inputs):\n",
    "        return self.model(inputs)"
   ]
  },
  {
   "cell_type": "code",
   "execution_count": 28,
   "metadata": {},
   "outputs": [],
   "source": [
    "B = 32\n",
    "F = 256"
   ]
  },
  {
   "cell_type": "code",
   "execution_count": 29,
   "metadata": {},
   "outputs": [],
   "source": [
    "model = EDSR(B,F)"
   ]
  },
  {
   "cell_type": "code",
   "execution_count": 30,
   "metadata": {},
   "outputs": [
    {
     "name": "stdout",
     "output_type": "stream",
     "text": [
      "Model: \"model_1\"\n",
      "__________________________________________________________________________________________________\n",
      " Layer (type)                   Output Shape         Param #     Connected to                     \n",
      "==================================================================================================\n",
      " input_2 (InputLayer)           [(None, 48, 48, 3)]  0           []                               \n",
      "                                                                                                  \n",
      " conv2d_68 (Conv2D)             (None, 48, 48, 256)  7168        ['input_2[0][0]']                \n",
      "                                                                                                  \n",
      " conv2d_69 (Conv2D)             (None, 48, 48, 256)  590080      ['conv2d_68[0][0]']              \n",
      "                                                                                                  \n",
      " conv2d_70 (Conv2D)             (None, 48, 48, 256)  590080      ['conv2d_69[0][0]']              \n",
      "                                                                                                  \n",
      " tf.__operators__.add_33 (TFOpL  (None, 48, 48, 256)  0          ['conv2d_70[0][0]',              \n",
      " ambda)                                                           'conv2d_68[0][0]']              \n",
      "                                                                                                  \n",
      " conv2d_71 (Conv2D)             (None, 48, 48, 256)  590080      ['tf.__operators__.add_33[0][0]']\n",
      "                                                                                                  \n",
      " conv2d_72 (Conv2D)             (None, 48, 48, 256)  590080      ['conv2d_71[0][0]']              \n",
      "                                                                                                  \n",
      " tf.__operators__.add_34 (TFOpL  (None, 48, 48, 256)  0          ['conv2d_72[0][0]',              \n",
      " ambda)                                                           'tf.__operators__.add_33[0][0]']\n",
      "                                                                                                  \n",
      " conv2d_73 (Conv2D)             (None, 48, 48, 256)  590080      ['tf.__operators__.add_34[0][0]']\n",
      "                                                                                                  \n",
      " conv2d_74 (Conv2D)             (None, 48, 48, 256)  590080      ['conv2d_73[0][0]']              \n",
      "                                                                                                  \n",
      " tf.__operators__.add_35 (TFOpL  (None, 48, 48, 256)  0          ['conv2d_74[0][0]',              \n",
      " ambda)                                                           'tf.__operators__.add_34[0][0]']\n",
      "                                                                                                  \n",
      " conv2d_75 (Conv2D)             (None, 48, 48, 256)  590080      ['tf.__operators__.add_35[0][0]']\n",
      "                                                                                                  \n",
      " conv2d_76 (Conv2D)             (None, 48, 48, 256)  590080      ['conv2d_75[0][0]']              \n",
      "                                                                                                  \n",
      " tf.__operators__.add_36 (TFOpL  (None, 48, 48, 256)  0          ['conv2d_76[0][0]',              \n",
      " ambda)                                                           'tf.__operators__.add_35[0][0]']\n",
      "                                                                                                  \n",
      " conv2d_77 (Conv2D)             (None, 48, 48, 256)  590080      ['tf.__operators__.add_36[0][0]']\n",
      "                                                                                                  \n",
      " conv2d_78 (Conv2D)             (None, 48, 48, 256)  590080      ['conv2d_77[0][0]']              \n",
      "                                                                                                  \n",
      " tf.__operators__.add_37 (TFOpL  (None, 48, 48, 256)  0          ['conv2d_78[0][0]',              \n",
      " ambda)                                                           'tf.__operators__.add_36[0][0]']\n",
      "                                                                                                  \n",
      " conv2d_79 (Conv2D)             (None, 48, 48, 256)  590080      ['tf.__operators__.add_37[0][0]']\n",
      "                                                                                                  \n",
      " conv2d_80 (Conv2D)             (None, 48, 48, 256)  590080      ['conv2d_79[0][0]']              \n",
      "                                                                                                  \n",
      " tf.__operators__.add_38 (TFOpL  (None, 48, 48, 256)  0          ['conv2d_80[0][0]',              \n",
      " ambda)                                                           'tf.__operators__.add_37[0][0]']\n",
      "                                                                                                  \n",
      " conv2d_81 (Conv2D)             (None, 48, 48, 256)  590080      ['tf.__operators__.add_38[0][0]']\n",
      "                                                                                                  \n",
      " conv2d_82 (Conv2D)             (None, 48, 48, 256)  590080      ['conv2d_81[0][0]']              \n",
      "                                                                                                  \n",
      " tf.__operators__.add_39 (TFOpL  (None, 48, 48, 256)  0          ['conv2d_82[0][0]',              \n",
      " ambda)                                                           'tf.__operators__.add_38[0][0]']\n",
      "                                                                                                  \n",
      " conv2d_83 (Conv2D)             (None, 48, 48, 256)  590080      ['tf.__operators__.add_39[0][0]']\n",
      "                                                                                                  \n",
      " conv2d_84 (Conv2D)             (None, 48, 48, 256)  590080      ['conv2d_83[0][0]']              \n",
      "                                                                                                  \n",
      " tf.__operators__.add_40 (TFOpL  (None, 48, 48, 256)  0          ['conv2d_84[0][0]',              \n",
      " ambda)                                                           'tf.__operators__.add_39[0][0]']\n",
      "                                                                                                  \n",
      " conv2d_85 (Conv2D)             (None, 48, 48, 256)  590080      ['tf.__operators__.add_40[0][0]']\n",
      "                                                                                                  \n",
      " conv2d_86 (Conv2D)             (None, 48, 48, 256)  590080      ['conv2d_85[0][0]']              \n",
      "                                                                                                  \n",
      " tf.__operators__.add_41 (TFOpL  (None, 48, 48, 256)  0          ['conv2d_86[0][0]',              \n",
      " ambda)                                                           'tf.__operators__.add_40[0][0]']\n",
      "                                                                                                  \n",
      " conv2d_87 (Conv2D)             (None, 48, 48, 256)  590080      ['tf.__operators__.add_41[0][0]']\n",
      "                                                                                                  \n",
      " conv2d_88 (Conv2D)             (None, 48, 48, 256)  590080      ['conv2d_87[0][0]']              \n",
      "                                                                                                  \n",
      " tf.__operators__.add_42 (TFOpL  (None, 48, 48, 256)  0          ['conv2d_88[0][0]',              \n",
      " ambda)                                                           'tf.__operators__.add_41[0][0]']\n",
      "                                                                                                  \n",
      " conv2d_89 (Conv2D)             (None, 48, 48, 256)  590080      ['tf.__operators__.add_42[0][0]']\n",
      "                                                                                                  \n",
      " conv2d_90 (Conv2D)             (None, 48, 48, 256)  590080      ['conv2d_89[0][0]']              \n",
      "                                                                                                  \n",
      " tf.__operators__.add_43 (TFOpL  (None, 48, 48, 256)  0          ['conv2d_90[0][0]',              \n",
      " ambda)                                                           'tf.__operators__.add_42[0][0]']\n",
      "                                                                                                  \n",
      " conv2d_91 (Conv2D)             (None, 48, 48, 256)  590080      ['tf.__operators__.add_43[0][0]']\n",
      "                                                                                                  \n",
      " conv2d_92 (Conv2D)             (None, 48, 48, 256)  590080      ['conv2d_91[0][0]']              \n",
      "                                                                                                  \n",
      " tf.__operators__.add_44 (TFOpL  (None, 48, 48, 256)  0          ['conv2d_92[0][0]',              \n",
      " ambda)                                                           'tf.__operators__.add_43[0][0]']\n",
      "                                                                                                  \n",
      " conv2d_93 (Conv2D)             (None, 48, 48, 256)  590080      ['tf.__operators__.add_44[0][0]']\n",
      "                                                                                                  \n",
      " conv2d_94 (Conv2D)             (None, 48, 48, 256)  590080      ['conv2d_93[0][0]']              \n",
      "                                                                                                  \n",
      " tf.__operators__.add_45 (TFOpL  (None, 48, 48, 256)  0          ['conv2d_94[0][0]',              \n",
      " ambda)                                                           'tf.__operators__.add_44[0][0]']\n",
      "                                                                                                  \n",
      " conv2d_95 (Conv2D)             (None, 48, 48, 256)  590080      ['tf.__operators__.add_45[0][0]']\n",
      "                                                                                                  \n",
      " conv2d_96 (Conv2D)             (None, 48, 48, 256)  590080      ['conv2d_95[0][0]']              \n",
      "                                                                                                  \n",
      " tf.__operators__.add_46 (TFOpL  (None, 48, 48, 256)  0          ['conv2d_96[0][0]',              \n",
      " ambda)                                                           'tf.__operators__.add_45[0][0]']\n",
      "                                                                                                  \n",
      " conv2d_97 (Conv2D)             (None, 48, 48, 256)  590080      ['tf.__operators__.add_46[0][0]']\n",
      "                                                                                                  \n",
      " conv2d_98 (Conv2D)             (None, 48, 48, 256)  590080      ['conv2d_97[0][0]']              \n",
      "                                                                                                  \n",
      " tf.__operators__.add_47 (TFOpL  (None, 48, 48, 256)  0          ['conv2d_98[0][0]',              \n",
      " ambda)                                                           'tf.__operators__.add_46[0][0]']\n",
      "                                                                                                  \n",
      " conv2d_99 (Conv2D)             (None, 48, 48, 256)  590080      ['tf.__operators__.add_47[0][0]']\n",
      "                                                                                                  \n",
      " conv2d_100 (Conv2D)            (None, 48, 48, 256)  590080      ['conv2d_99[0][0]']              \n",
      "                                                                                                  \n",
      " tf.__operators__.add_48 (TFOpL  (None, 48, 48, 256)  0          ['conv2d_100[0][0]',             \n",
      " ambda)                                                           'tf.__operators__.add_47[0][0]']\n",
      "                                                                                                  \n",
      " conv2d_101 (Conv2D)            (None, 48, 48, 256)  590080      ['tf.__operators__.add_48[0][0]']\n",
      "                                                                                                  \n",
      " conv2d_102 (Conv2D)            (None, 48, 48, 256)  590080      ['conv2d_101[0][0]']             \n",
      "                                                                                                  \n",
      " tf.__operators__.add_49 (TFOpL  (None, 48, 48, 256)  0          ['conv2d_102[0][0]',             \n",
      " ambda)                                                           'tf.__operators__.add_48[0][0]']\n",
      "                                                                                                  \n",
      " conv2d_103 (Conv2D)            (None, 48, 48, 256)  590080      ['tf.__operators__.add_49[0][0]']\n",
      "                                                                                                  \n",
      " conv2d_104 (Conv2D)            (None, 48, 48, 256)  590080      ['conv2d_103[0][0]']             \n",
      "                                                                                                  \n",
      " tf.__operators__.add_50 (TFOpL  (None, 48, 48, 256)  0          ['conv2d_104[0][0]',             \n",
      " ambda)                                                           'tf.__operators__.add_49[0][0]']\n",
      "                                                                                                  \n",
      " conv2d_105 (Conv2D)            (None, 48, 48, 256)  590080      ['tf.__operators__.add_50[0][0]']\n",
      "                                                                                                  \n",
      " conv2d_106 (Conv2D)            (None, 48, 48, 256)  590080      ['conv2d_105[0][0]']             \n",
      "                                                                                                  \n",
      " tf.__operators__.add_51 (TFOpL  (None, 48, 48, 256)  0          ['conv2d_106[0][0]',             \n",
      " ambda)                                                           'tf.__operators__.add_50[0][0]']\n",
      "                                                                                                  \n",
      " conv2d_107 (Conv2D)            (None, 48, 48, 256)  590080      ['tf.__operators__.add_51[0][0]']\n",
      "                                                                                                  \n",
      " conv2d_108 (Conv2D)            (None, 48, 48, 256)  590080      ['conv2d_107[0][0]']             \n",
      "                                                                                                  \n",
      " tf.__operators__.add_52 (TFOpL  (None, 48, 48, 256)  0          ['conv2d_108[0][0]',             \n",
      " ambda)                                                           'tf.__operators__.add_51[0][0]']\n",
      "                                                                                                  \n",
      " conv2d_109 (Conv2D)            (None, 48, 48, 256)  590080      ['tf.__operators__.add_52[0][0]']\n",
      "                                                                                                  \n",
      " conv2d_110 (Conv2D)            (None, 48, 48, 256)  590080      ['conv2d_109[0][0]']             \n",
      "                                                                                                  \n",
      " tf.__operators__.add_53 (TFOpL  (None, 48, 48, 256)  0          ['conv2d_110[0][0]',             \n",
      " ambda)                                                           'tf.__operators__.add_52[0][0]']\n",
      "                                                                                                  \n",
      " conv2d_111 (Conv2D)            (None, 48, 48, 256)  590080      ['tf.__operators__.add_53[0][0]']\n",
      "                                                                                                  \n",
      " conv2d_112 (Conv2D)            (None, 48, 48, 256)  590080      ['conv2d_111[0][0]']             \n",
      "                                                                                                  \n",
      " tf.__operators__.add_54 (TFOpL  (None, 48, 48, 256)  0          ['conv2d_112[0][0]',             \n",
      " ambda)                                                           'tf.__operators__.add_53[0][0]']\n",
      "                                                                                                  \n",
      " conv2d_113 (Conv2D)            (None, 48, 48, 256)  590080      ['tf.__operators__.add_54[0][0]']\n",
      "                                                                                                  \n",
      " conv2d_114 (Conv2D)            (None, 48, 48, 256)  590080      ['conv2d_113[0][0]']             \n",
      "                                                                                                  \n",
      " tf.__operators__.add_55 (TFOpL  (None, 48, 48, 256)  0          ['conv2d_114[0][0]',             \n",
      " ambda)                                                           'tf.__operators__.add_54[0][0]']\n",
      "                                                                                                  \n",
      " conv2d_115 (Conv2D)            (None, 48, 48, 256)  590080      ['tf.__operators__.add_55[0][0]']\n",
      "                                                                                                  \n",
      " conv2d_116 (Conv2D)            (None, 48, 48, 256)  590080      ['conv2d_115[0][0]']             \n",
      "                                                                                                  \n",
      " tf.__operators__.add_56 (TFOpL  (None, 48, 48, 256)  0          ['conv2d_116[0][0]',             \n",
      " ambda)                                                           'tf.__operators__.add_55[0][0]']\n",
      "                                                                                                  \n",
      " conv2d_117 (Conv2D)            (None, 48, 48, 256)  590080      ['tf.__operators__.add_56[0][0]']\n",
      "                                                                                                  \n",
      " conv2d_118 (Conv2D)            (None, 48, 48, 256)  590080      ['conv2d_117[0][0]']             \n",
      "                                                                                                  \n",
      " tf.__operators__.add_57 (TFOpL  (None, 48, 48, 256)  0          ['conv2d_118[0][0]',             \n",
      " ambda)                                                           'tf.__operators__.add_56[0][0]']\n",
      "                                                                                                  \n",
      " conv2d_119 (Conv2D)            (None, 48, 48, 256)  590080      ['tf.__operators__.add_57[0][0]']\n",
      "                                                                                                  \n",
      " conv2d_120 (Conv2D)            (None, 48, 48, 256)  590080      ['conv2d_119[0][0]']             \n",
      "                                                                                                  \n",
      " tf.__operators__.add_58 (TFOpL  (None, 48, 48, 256)  0          ['conv2d_120[0][0]',             \n",
      " ambda)                                                           'tf.__operators__.add_57[0][0]']\n",
      "                                                                                                  \n",
      " conv2d_121 (Conv2D)            (None, 48, 48, 256)  590080      ['tf.__operators__.add_58[0][0]']\n",
      "                                                                                                  \n",
      " conv2d_122 (Conv2D)            (None, 48, 48, 256)  590080      ['conv2d_121[0][0]']             \n",
      "                                                                                                  \n",
      " tf.__operators__.add_59 (TFOpL  (None, 48, 48, 256)  0          ['conv2d_122[0][0]',             \n",
      " ambda)                                                           'tf.__operators__.add_58[0][0]']\n",
      "                                                                                                  \n",
      " conv2d_123 (Conv2D)            (None, 48, 48, 256)  590080      ['tf.__operators__.add_59[0][0]']\n",
      "                                                                                                  \n",
      " conv2d_124 (Conv2D)            (None, 48, 48, 256)  590080      ['conv2d_123[0][0]']             \n",
      "                                                                                                  \n",
      " tf.__operators__.add_60 (TFOpL  (None, 48, 48, 256)  0          ['conv2d_124[0][0]',             \n",
      " ambda)                                                           'tf.__operators__.add_59[0][0]']\n",
      "                                                                                                  \n",
      " conv2d_125 (Conv2D)            (None, 48, 48, 256)  590080      ['tf.__operators__.add_60[0][0]']\n",
      "                                                                                                  \n",
      " conv2d_126 (Conv2D)            (None, 48, 48, 256)  590080      ['conv2d_125[0][0]']             \n",
      "                                                                                                  \n",
      " tf.__operators__.add_61 (TFOpL  (None, 48, 48, 256)  0          ['conv2d_126[0][0]',             \n",
      " ambda)                                                           'tf.__operators__.add_60[0][0]']\n",
      "                                                                                                  \n",
      " conv2d_127 (Conv2D)            (None, 48, 48, 256)  590080      ['tf.__operators__.add_61[0][0]']\n",
      "                                                                                                  \n",
      " conv2d_128 (Conv2D)            (None, 48, 48, 256)  590080      ['conv2d_127[0][0]']             \n",
      "                                                                                                  \n",
      " tf.__operators__.add_62 (TFOpL  (None, 48, 48, 256)  0          ['conv2d_128[0][0]',             \n",
      " ambda)                                                           'tf.__operators__.add_61[0][0]']\n",
      "                                                                                                  \n",
      " conv2d_129 (Conv2D)            (None, 48, 48, 256)  590080      ['tf.__operators__.add_62[0][0]']\n",
      "                                                                                                  \n",
      " conv2d_130 (Conv2D)            (None, 48, 48, 256)  590080      ['conv2d_129[0][0]']             \n",
      "                                                                                                  \n",
      " tf.__operators__.add_63 (TFOpL  (None, 48, 48, 256)  0          ['conv2d_130[0][0]',             \n",
      " ambda)                                                           'tf.__operators__.add_62[0][0]']\n",
      "                                                                                                  \n",
      " conv2d_131 (Conv2D)            (None, 48, 48, 256)  590080      ['tf.__operators__.add_63[0][0]']\n",
      "                                                                                                  \n",
      " conv2d_132 (Conv2D)            (None, 48, 48, 256)  590080      ['conv2d_131[0][0]']             \n",
      "                                                                                                  \n",
      " tf.__operators__.add_64 (TFOpL  (None, 48, 48, 256)  0          ['conv2d_132[0][0]',             \n",
      " ambda)                                                           'tf.__operators__.add_63[0][0]']\n",
      "                                                                                                  \n",
      " conv2d_133 (Conv2D)            (None, 48, 48, 256)  590080      ['tf.__operators__.add_64[0][0]']\n",
      "                                                                                                  \n",
      " tf.__operators__.add_65 (TFOpL  (None, 48, 48, 256)  0          ['conv2d_133[0][0]',             \n",
      " ambda)                                                           'conv2d_68[0][0]']              \n",
      "                                                                                                  \n",
      " conv2d_134 (Conv2D)            (None, 48, 48, 256)  590080      ['tf.__operators__.add_65[0][0]']\n",
      "                                                                                                  \n",
      " tf.nn.depth_to_space_1 (TFOpLa  (None, 96, 96, 64)  0           ['conv2d_134[0][0]']             \n",
      " mbda)                                                                                            \n",
      "                                                                                                  \n",
      " conv2d_135 (Conv2D)            (None, 96, 96, 3)    1731        ['tf.nn.depth_to_space_1[0][0]'] \n",
      "                                                                                                  \n",
      "==================================================================================================\n",
      "Total params: 38,954,179\n",
      "Trainable params: 38,954,179\n",
      "Non-trainable params: 0\n",
      "__________________________________________________________________________________________________\n"
     ]
    }
   ],
   "source": [
    "model.model.summary()"
   ]
  },
  {
   "cell_type": "code",
   "execution_count": 32,
   "metadata": {},
   "outputs": [],
   "source": [
    "lr = 0.001  \n",
    "optimizer = tf.keras.optimizers.Adam(learning_rate=lr)\n",
    "\n",
    "model.compile(loss='mean_absolute_error', optimizer=optimizer)"
   ]
  },
  {
   "cell_type": "code",
   "execution_count": 33,
   "metadata": {},
   "outputs": [
    {
     "name": "stdout",
     "output_type": "stream",
     "text": [
      "Epoch 1/40\n",
      "WARNING:tensorflow:Model was constructed with shape (None, 48, 48, 3) for input KerasTensor(type_spec=TensorSpec(shape=(None, 48, 48, 3), dtype=tf.float32, name='input_2'), name='input_2', description=\"created by layer 'input_2'\"), but it was called on an input with incompatible shape ().\n"
     ]
    },
    {
     "ename": "ValueError",
     "evalue": "in user code:\n\n    File \"C:\\Users\\Daniel Marin\\anaconda3\\envs\\tf\\lib\\site-packages\\keras\\engine\\training.py\", line 1160, in train_function  *\n        return step_function(self, iterator)\n    File \"C:\\Users\\Daniel Marin\\anaconda3\\envs\\tf\\lib\\site-packages\\keras\\engine\\training.py\", line 1146, in step_function  **\n        outputs = model.distribute_strategy.run(run_step, args=(data,))\n    File \"C:\\Users\\Daniel Marin\\anaconda3\\envs\\tf\\lib\\site-packages\\keras\\engine\\training.py\", line 1135, in run_step  **\n        outputs = model.train_step(data)\n    File \"C:\\Users\\Daniel Marin\\anaconda3\\envs\\tf\\lib\\site-packages\\keras\\engine\\training.py\", line 993, in train_step\n        y_pred = self(x, training=True)\n    File \"C:\\Users\\Daniel Marin\\anaconda3\\envs\\tf\\lib\\site-packages\\keras\\utils\\traceback_utils.py\", line 70, in error_handler\n        raise e.with_traceback(filtered_tb) from None\n    File \"C:\\Users\\DANIEL~1\\AppData\\Local\\Temp\\__autograph_generated_fileq5ry3dqz.py\", line 12, in tf__call\n        retval_ = ag__.converted_call(ag__.ld(self).model, (ag__.ld(inputs),), None, fscope)\n\n    ValueError: Exception encountered when calling layer \"edsr_1\" \"                 f\"(type EDSR).\n    \n    in user code:\n    \n        File \"C:\\Users\\Daniel Marin\\AppData\\Local\\Temp\\ipykernel_7648\\2607297361.py\", line 40, in call  *\n            return self.model(inputs)\n        File \"C:\\Users\\Daniel Marin\\anaconda3\\envs\\tf\\lib\\site-packages\\keras\\utils\\traceback_utils.py\", line 70, in error_handler  **\n            raise e.with_traceback(filtered_tb) from None\n        File \"C:\\Users\\Daniel Marin\\anaconda3\\envs\\tf\\lib\\site-packages\\keras\\engine\\input_spec.py\", line 250, in assert_input_compatibility\n            raise ValueError(\n    \n        ValueError: Exception encountered when calling layer \"model_1\" \"                 f\"(type Functional).\n        \n        Input 0 of layer \"conv2d_68\" is incompatible with the layer: expected min_ndim=4, found ndim=0. Full shape received: ()\n        \n        Call arguments received by layer \"model_1\" \"                 f\"(type Functional):\n          • inputs=tf.Tensor(shape=(), dtype=string)\n          • training=True\n          • mask=None\n    \n    \n    Call arguments received by layer \"edsr_1\" \"                 f\"(type EDSR):\n      • inputs=tf.Tensor(shape=(), dtype=string)\n",
     "output_type": "error",
     "traceback": [
      "\u001b[1;31m---------------------------------------------------------------------------\u001b[0m",
      "\u001b[1;31mValueError\u001b[0m                                Traceback (most recent call last)",
      "Cell \u001b[1;32mIn[33], line 1\u001b[0m\n\u001b[1;32m----> 1\u001b[0m history \u001b[38;5;241m=\u001b[39m \u001b[43mmodel\u001b[49m\u001b[38;5;241;43m.\u001b[39;49m\u001b[43mfit\u001b[49m\u001b[43m(\u001b[49m\u001b[43mtrain_input_dataset\u001b[49m\u001b[43m,\u001b[49m\u001b[43mepochs\u001b[49m\u001b[38;5;241;43m=\u001b[39;49m\u001b[38;5;241;43m40\u001b[39;49m\u001b[43m)\u001b[49m\n",
      "File \u001b[1;32m~\\anaconda3\\envs\\tf\\lib\\site-packages\\keras\\utils\\traceback_utils.py:70\u001b[0m, in \u001b[0;36mfilter_traceback.<locals>.error_handler\u001b[1;34m(*args, **kwargs)\u001b[0m\n\u001b[0;32m     67\u001b[0m     filtered_tb \u001b[38;5;241m=\u001b[39m _process_traceback_frames(e\u001b[38;5;241m.\u001b[39m__traceback__)\n\u001b[0;32m     68\u001b[0m     \u001b[38;5;66;03m# To get the full stack trace, call:\u001b[39;00m\n\u001b[0;32m     69\u001b[0m     \u001b[38;5;66;03m# `tf.debugging.disable_traceback_filtering()`\u001b[39;00m\n\u001b[1;32m---> 70\u001b[0m     \u001b[38;5;28;01mraise\u001b[39;00m e\u001b[38;5;241m.\u001b[39mwith_traceback(filtered_tb) \u001b[38;5;28;01mfrom\u001b[39;00m \u001b[38;5;28;01mNone\u001b[39;00m\n\u001b[0;32m     71\u001b[0m \u001b[38;5;28;01mfinally\u001b[39;00m:\n\u001b[0;32m     72\u001b[0m     \u001b[38;5;28;01mdel\u001b[39;00m filtered_tb\n",
      "File \u001b[1;32mC:\\Users\\DANIEL~1\\AppData\\Local\\Temp\\__autograph_generated_filegawetqeq.py:15\u001b[0m, in \u001b[0;36mouter_factory.<locals>.inner_factory.<locals>.tf__train_function\u001b[1;34m(iterator)\u001b[0m\n\u001b[0;32m     13\u001b[0m \u001b[38;5;28;01mtry\u001b[39;00m:\n\u001b[0;32m     14\u001b[0m     do_return \u001b[38;5;241m=\u001b[39m \u001b[38;5;28;01mTrue\u001b[39;00m\n\u001b[1;32m---> 15\u001b[0m     retval_ \u001b[38;5;241m=\u001b[39m ag__\u001b[38;5;241m.\u001b[39mconverted_call(ag__\u001b[38;5;241m.\u001b[39mld(step_function), (ag__\u001b[38;5;241m.\u001b[39mld(\u001b[38;5;28mself\u001b[39m), ag__\u001b[38;5;241m.\u001b[39mld(iterator)), \u001b[38;5;28;01mNone\u001b[39;00m, fscope)\n\u001b[0;32m     16\u001b[0m \u001b[38;5;28;01mexcept\u001b[39;00m:\n\u001b[0;32m     17\u001b[0m     do_return \u001b[38;5;241m=\u001b[39m \u001b[38;5;28;01mFalse\u001b[39;00m\n",
      "File \u001b[1;32mC:\\Users\\DANIEL~1\\AppData\\Local\\Temp\\__autograph_generated_fileq5ry3dqz.py:12\u001b[0m, in \u001b[0;36mouter_factory.<locals>.inner_factory.<locals>.tf__call\u001b[1;34m(self, inputs)\u001b[0m\n\u001b[0;32m     10\u001b[0m \u001b[38;5;28;01mtry\u001b[39;00m:\n\u001b[0;32m     11\u001b[0m     do_return \u001b[38;5;241m=\u001b[39m \u001b[38;5;28;01mTrue\u001b[39;00m\n\u001b[1;32m---> 12\u001b[0m     retval_ \u001b[38;5;241m=\u001b[39m ag__\u001b[38;5;241m.\u001b[39mconverted_call(ag__\u001b[38;5;241m.\u001b[39mld(\u001b[38;5;28mself\u001b[39m)\u001b[38;5;241m.\u001b[39mmodel, (ag__\u001b[38;5;241m.\u001b[39mld(inputs),), \u001b[38;5;28;01mNone\u001b[39;00m, fscope)\n\u001b[0;32m     13\u001b[0m \u001b[38;5;28;01mexcept\u001b[39;00m:\n\u001b[0;32m     14\u001b[0m     do_return \u001b[38;5;241m=\u001b[39m \u001b[38;5;28;01mFalse\u001b[39;00m\n",
      "\u001b[1;31mValueError\u001b[0m: in user code:\n\n    File \"C:\\Users\\Daniel Marin\\anaconda3\\envs\\tf\\lib\\site-packages\\keras\\engine\\training.py\", line 1160, in train_function  *\n        return step_function(self, iterator)\n    File \"C:\\Users\\Daniel Marin\\anaconda3\\envs\\tf\\lib\\site-packages\\keras\\engine\\training.py\", line 1146, in step_function  **\n        outputs = model.distribute_strategy.run(run_step, args=(data,))\n    File \"C:\\Users\\Daniel Marin\\anaconda3\\envs\\tf\\lib\\site-packages\\keras\\engine\\training.py\", line 1135, in run_step  **\n        outputs = model.train_step(data)\n    File \"C:\\Users\\Daniel Marin\\anaconda3\\envs\\tf\\lib\\site-packages\\keras\\engine\\training.py\", line 993, in train_step\n        y_pred = self(x, training=True)\n    File \"C:\\Users\\Daniel Marin\\anaconda3\\envs\\tf\\lib\\site-packages\\keras\\utils\\traceback_utils.py\", line 70, in error_handler\n        raise e.with_traceback(filtered_tb) from None\n    File \"C:\\Users\\DANIEL~1\\AppData\\Local\\Temp\\__autograph_generated_fileq5ry3dqz.py\", line 12, in tf__call\n        retval_ = ag__.converted_call(ag__.ld(self).model, (ag__.ld(inputs),), None, fscope)\n\n    ValueError: Exception encountered when calling layer \"edsr_1\" \"                 f\"(type EDSR).\n    \n    in user code:\n    \n        File \"C:\\Users\\Daniel Marin\\AppData\\Local\\Temp\\ipykernel_7648\\2607297361.py\", line 40, in call  *\n            return self.model(inputs)\n        File \"C:\\Users\\Daniel Marin\\anaconda3\\envs\\tf\\lib\\site-packages\\keras\\utils\\traceback_utils.py\", line 70, in error_handler  **\n            raise e.with_traceback(filtered_tb) from None\n        File \"C:\\Users\\Daniel Marin\\anaconda3\\envs\\tf\\lib\\site-packages\\keras\\engine\\input_spec.py\", line 250, in assert_input_compatibility\n            raise ValueError(\n    \n        ValueError: Exception encountered when calling layer \"model_1\" \"                 f\"(type Functional).\n        \n        Input 0 of layer \"conv2d_68\" is incompatible with the layer: expected min_ndim=4, found ndim=0. Full shape received: ()\n        \n        Call arguments received by layer \"model_1\" \"                 f\"(type Functional):\n          • inputs=tf.Tensor(shape=(), dtype=string)\n          • training=True\n          • mask=None\n    \n    \n    Call arguments received by layer \"edsr_1\" \"                 f\"(type EDSR):\n      • inputs=tf.Tensor(shape=(), dtype=string)\n"
     ]
    }
   ],
   "source": [
    "history = model.fit(train_input_dataset,epochs=40)"
   ]
  },
  {
   "cell_type": "code",
   "execution_count": null,
   "metadata": {},
   "outputs": [],
   "source": [
    "pd.DataFrame(history.history).plot()\n",
    "plt.xlabel('Epoch num.')\n",
    "plt.show()"
   ]
  },
  {
   "cell_type": "code",
   "execution_count": null,
   "metadata": {},
   "outputs": [],
   "source": []
  }
 ],
 "metadata": {
  "kernelspec": {
   "display_name": "Python 3 (ipykernel)",
   "language": "python",
   "name": "python3"
  },
  "language_info": {
   "codemirror_mode": {
    "name": "ipython",
    "version": 3
   },
   "file_extension": ".py",
   "mimetype": "text/x-python",
   "name": "python",
   "nbconvert_exporter": "python",
   "pygments_lexer": "ipython3",
   "version": "3.9.18"
  }
 },
 "nbformat": 4,
 "nbformat_minor": 4
}
